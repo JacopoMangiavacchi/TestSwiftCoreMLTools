{
 "cells": [
  {
   "cell_type": "code",
   "execution_count": 1,
   "metadata": {},
   "outputs": [
    {
     "name": "stdout",
     "output_type": "stream",
     "text": [
      "Installing packages:\n",
      "\t.package(url: \"https://github.com/JacopoMangiavacchi/SwiftCoreMLTools.git\", from: \"0.0.1\")\n",
      "\t\tSwiftCoreMLTools\n",
      "With SwiftPM flags: ['-c', 'release']\n",
      "Working in: /tmp/tmp3dbqmrfv/swift-install\n",
      "Fetching https://github.com/JacopoMangiavacchi/SwiftCoreMLTools.git\n",
      "Fetching https://github.com/apple/swift-protobuf.git\n",
      "Cloning https://github.com/apple/swift-protobuf.git\n",
      "Resolving https://github.com/apple/swift-protobuf.git at 1.8.0\n",
      "Cloning https://github.com/JacopoMangiavacchi/SwiftCoreMLTools.git\n",
      "Resolving https://github.com/JacopoMangiavacchi/SwiftCoreMLTools.git at 0.0.1\n",
      "[1/2] Compiling SwiftProtobuf AnyMessageStorage.swift\n",
      "[2/3] Compiling SwiftCoreMLTools Activations.swift\n",
      "[3/4] Compiling jupyterInstalledPackages jupyterInstalledPackages.swift\n",
      "[4/4] Linking libjupyterInstalledPackages.so\n",
      "Initializing Swift...\n",
      "Installation complete!\n"
     ]
    }
   ],
   "source": [
    "%install-swiftpm-flags -c release\n",
    "%install '.package(url: \"https://github.com/JacopoMangiavacchi/SwiftCoreMLTools.git\", from: \"0.0.2\")' SwiftCoreMLTools"
   ]
  },
  {
   "cell_type": "code",
   "execution_count": 2,
   "metadata": {
    "colab": {},
    "colab_type": "code",
    "id": "TO4FT9bUohHx"
   },
   "outputs": [],
   "source": [
    "import Foundation\n",
    "import TensorFlow\n",
    "import SwiftCoreMLTools"
   ]
  },
  {
   "cell_type": "code",
   "execution_count": 3,
   "metadata": {
    "colab": {
     "base_uri": "https://localhost:8080/",
     "height": 87
    },
    "colab_type": "code",
    "id": "RgQazsBcohH5",
    "outputId": "c5f63b76-3009-4725-ef9d-caccf24671c3"
   },
   "outputs": [
    {
     "name": "stdout",
     "output_type": "stream",
     "text": [
      "405 14 101 14\r\n",
      "405 13 405 1 101 13 101 1\r\n",
      "5265 405 1313 101\r\n"
     ]
    }
   ],
   "source": [
    "let trainCSV = try String(contentsOfFile:\"../data/train.csv\", encoding: String.Encoding.utf8)\n",
    "let testCSV = try String(contentsOfFile:\"../data/test.csv\", encoding: String.Encoding.utf8)\n",
    "\n",
    "let trainRecords: [[Float]] = trainCSV.split(separator: \"\\n\").map{ String($0).split(separator: \",\").compactMap{ Float(String($0)) } }\n",
    "let testRecords: [[Float]] = testCSV.split(separator: \"\\n\").map{ String($0).split(separator: \",\").compactMap{ Float(String($0)) } }\n",
    "\n",
    "let numTrainRecords = trainRecords.count\n",
    "let numTrainColumns = trainRecords[0].count\n",
    "let numTestRecords = testRecords.count\n",
    "let numTestColumns = testRecords[0].count\n",
    "\n",
    "print(numTrainRecords, numTrainColumns, numTestRecords, numTestColumns)\n",
    "\n",
    "let xTrain = trainRecords.map{ Array($0[0..<numTrainColumns-1]) }\n",
    "let yTrain = trainRecords.map{ [$0[numTrainColumns-1]] }\n",
    "let xTest = testRecords.map{ Array($0[0..<numTestColumns-1]) }\n",
    "let yTest = testRecords.map{ [$0[numTestColumns-1]] }\n",
    "\n",
    "print(xTrain.count, xTrain[0].count, yTrain.count, yTrain[0].count,\n",
    "      xTest.count, xTest[0].count, yTest.count, yTest[0].count)\n",
    "\n",
    "let xAllTrain = Array(xTrain.joined())\n",
    "let yAllTrain = Array(yTrain.joined())\n",
    "let xAllTest = Array(xTest.joined())\n",
    "let yAllTest = Array(yTest.joined())\n",
    "\n",
    "print(xAllTrain.count, yAllTrain.count, xAllTest.count, yAllTest.count)"
   ]
  },
  {
   "cell_type": "code",
   "execution_count": 4,
   "metadata": {
    "colab": {
     "base_uri": "https://localhost:8080/",
     "height": 54
    },
    "colab_type": "code",
    "id": "qlhl7tOaohH_",
    "outputId": "1eef7f0c-fa9d-4f83-a1a0-8ea555fbe3b8"
   },
   "outputs": [
    {
     "name": "stdout",
     "output_type": "stream",
     "text": [
      "[405, 13] [405, 1] [101, 13] [101, 1]\r\n"
     ]
    }
   ],
   "source": [
    "let XTrain = Tensor<Float>(xAllTrain).reshaped(to: TensorShape([numTrainRecords, numTrainColumns-1]))\n",
    "let YTrain = Tensor<Float>(yAllTrain).reshaped(to: TensorShape([numTrainRecords, 1]))\n",
    "let XTest = Tensor<Float>(xAllTest).reshaped(to: TensorShape([numTestRecords, numTestColumns-1]))\n",
    "let YTest = Tensor<Float>(yAllTest).reshaped(to: TensorShape([numTestRecords, 1]))\n",
    "\n",
    "print(XTrain.shape, YTrain.shape, XTest.shape, YTest.shape)"
   ]
  },
  {
   "cell_type": "code",
   "execution_count": 5,
   "metadata": {
    "colab": {},
    "colab_type": "code",
    "id": "HDJZCCgqohIC"
   },
   "outputs": [
    {
     "ename": "",
     "evalue": "",
     "output_type": "error",
     "traceback": [
      "error: <Cell 5>:1:25: error: 'Layer' is ambiguous for type lookup in this context\nstruct RegressionModel: Layer {\n                        ^~~~~\n\nerror: <Cell 5>:1:8: error: type 'RegressionModel' does not conform to protocol 'Decodable'\nstruct RegressionModel: Layer {\n       ^\n\n<Cell 5>:2:9: note: cannot automatically synthesize 'Decodable' because 'Dense<Float>' does not conform to 'Decodable'\n    var layer1 = Dense<Float>(inputSize: 13, outputSize: 64, activation: relu)\n        ^\n\n<Cell 5>:3:9: note: cannot automatically synthesize 'Decodable' because 'Dense<Float>' does not conform to 'Decodable'\n    var layer2 = Dense<Float>(inputSize: 64, outputSize: 32, activation: relu)\n        ^\n\n<Cell 5>:4:9: note: cannot automatically synthesize 'Decodable' because 'Dense<Float>' does not conform to 'Decodable'\n    var layer3 = Dense<Float>(inputSize: 32, outputSize: 1)\n        ^\n\nerror: <Cell 5>:1:8: error: type 'RegressionModel' does not conform to protocol 'Decodable'\nstruct RegressionModel: Layer {\n       ^\n\n<Cell 5>:2:9: note: cannot automatically synthesize 'Decodable' because 'Dense<Float>' does not conform to 'Decodable'\n    var layer1 = Dense<Float>(inputSize: 13, outputSize: 64, activation: relu)\n        ^\n\n<Cell 5>:3:9: note: cannot automatically synthesize 'Decodable' because 'Dense<Float>' does not conform to 'Decodable'\n    var layer2 = Dense<Float>(inputSize: 64, outputSize: 32, activation: relu)\n        ^\n\n<Cell 5>:4:9: note: cannot automatically synthesize 'Decodable' because 'Dense<Float>' does not conform to 'Decodable'\n    var layer3 = Dense<Float>(inputSize: 32, outputSize: 1)\n        ^\n\nerror: <Cell 5>:1:8: error: type 'RegressionModel' does not conform to protocol 'BaseLayer'\nstruct RegressionModel: Layer {\n       ^\n\nerror: <Cell 5>:1:8: error: type 'RegressionModel' does not conform to protocol 'Encodable'\nstruct RegressionModel: Layer {\n       ^\n\n<Cell 5>:2:9: note: cannot automatically synthesize 'Encodable' because 'Dense<Float>' does not conform to 'Encodable'\n    var layer1 = Dense<Float>(inputSize: 13, outputSize: 64, activation: relu)\n        ^\n\n<Cell 5>:3:9: note: cannot automatically synthesize 'Encodable' because 'Dense<Float>' does not conform to 'Encodable'\n    var layer2 = Dense<Float>(inputSize: 64, outputSize: 32, activation: relu)\n        ^\n\n<Cell 5>:4:9: note: cannot automatically synthesize 'Encodable' because 'Dense<Float>' does not conform to 'Encodable'\n    var layer3 = Dense<Float>(inputSize: 32, outputSize: 1)\n        ^\n\n<Cell 5>:1:8: note: do you want to add protocol stubs?\nstruct RegressionModel: Layer {\n       ^\n\n<Cell 5>:1:8: note: do you want to add protocol stubs?\nstruct RegressionModel: Layer {\n       ^\n\n<Cell 5>:1:8: note: do you want to add protocol stubs?\nstruct RegressionModel: Layer {\n       ^\n\n<Cell 5>:1:8: note: do you want to add protocol stubs?\nstruct RegressionModel: Layer {\n       ^\n\n"
     ]
    }
   ],
   "source": [
    "struct RegressionModel: Layer {\n",
    "    var layer1 = Dense<Float>(inputSize: 13, outputSize: 64, activation: relu)\n",
    "    var layer2 = Dense<Float>(inputSize: 64, outputSize: 32, activation: relu)\n",
    "    var layer3 = Dense<Float>(inputSize: 32, outputSize: 1)\n",
    "    \n",
    "    @differentiable\n",
    "    func callAsFunction(_ input: Tensor<Float>) -> Tensor<Float> {\n",
    "        return input.sequenced(through: layer1, layer2, layer3)\n",
    "    }\n",
    "}\n",
    "\n",
    "var model = RegressionModel()"
   ]
  },
  {
   "cell_type": "code",
   "execution_count": null,
   "metadata": {
    "colab": {},
    "colab_type": "code",
    "id": "JK0Vj7bSohIF"
   },
   "outputs": [],
   "source": [
    "let optimizer = RMSProp(for: model, learningRate: 0.001)\n",
    "Context.local.learningPhase = .training"
   ]
  },
  {
   "cell_type": "code",
   "execution_count": null,
   "metadata": {
    "colab": {},
    "colab_type": "code",
    "id": "gY8C7yHJohIH"
   },
   "outputs": [],
   "source": [
    "let epochCount = 500\n",
    "let batchSize = 32\n",
    "let numberOfBatch = Int(ceil(Double(xTrain.count) / Double(batchSize)))\n",
    "let shuffle = true\n",
    "\n",
    "func mae(predictions: Tensor<Float>, truths: Tensor<Float>) -> Float {\n",
    "    return abs(Tensor<Float>(predictions - truths)).mean().scalarized()\n",
    "}"
   ]
  },
  {
   "cell_type": "code",
   "execution_count": null,
   "metadata": {
    "colab": {
     "base_uri": "https://localhost:8080/",
     "height": 203
    },
    "colab_type": "code",
    "id": "L9bU9HsdohIK",
    "outputId": "692b81c5-3286-4e7c-9246-eb56e6a3eaee"
   },
   "outputs": [],
   "source": [
    "for epoch in 1...epochCount {\n",
    "    var epochLoss: Float = 0\n",
    "    var epochMAE: Float = 0\n",
    "    var batchCount: Int = 0\n",
    "    var batchArray = Array(repeating: false, count: numberOfBatch)\n",
    "    for batch in 0..<numberOfBatch {\n",
    "        var r = batch\n",
    "        if shuffle {\n",
    "            while true {\n",
    "                r = Int.random(in: 0..<numberOfBatch)\n",
    "                if !batchArray[r] {\n",
    "                    batchArray[r] = true\n",
    "                    break\n",
    "                }\n",
    "            }\n",
    "        }\n",
    "        \n",
    "        let batchStart = r * batchSize\n",
    "        let batchEnd = min(xTrain.count, batchStart + batchSize)\n",
    "        let (loss, grad) = model.valueWithGradient { (model: RegressionModel) -> Tensor<Float> in\n",
    "            let logits = model(XTrain[batchStart..<batchEnd])\n",
    "            return meanSquaredError(predicted: logits, expected: YTrain[batchStart..<batchEnd])\n",
    "        }\n",
    "        optimizer.update(&model, along: grad)\n",
    "        \n",
    "        let logits = model(XTrain[batchStart..<batchEnd])\n",
    "        epochMAE += mae(predictions: logits, truths: YTrain[batchStart..<batchEnd])\n",
    "        epochLoss += loss.scalarized()\n",
    "        batchCount += 1\n",
    "    }\n",
    "    epochMAE /= Float(batchCount)\n",
    "    epochLoss /= Float(batchCount)\n",
    "\n",
    "    print(\"Epoch \\(epoch): MSE: \\(epochLoss), MAE: \\(epochMAE)\")\n",
    "}"
   ]
  },
  {
   "cell_type": "code",
   "execution_count": null,
   "metadata": {
    "colab": {},
    "colab_type": "code",
    "id": "Fkf29HLlohIP"
   },
   "outputs": [],
   "source": []
  }
 ],
 "metadata": {
  "colab": {
   "collapsed_sections": [],
   "name": "S4TF_House.ipynb",
   "provenance": []
  },
  "kernelspec": {
   "display_name": "Swift",
   "language": "swift",
   "name": "swift"
  },
  "language_info": {
   "file_extension": ".swift",
   "mimetype": "text/x-swift",
   "name": "swift",
   "version": ""
  }
 },
 "nbformat": 4,
 "nbformat_minor": 1
}
